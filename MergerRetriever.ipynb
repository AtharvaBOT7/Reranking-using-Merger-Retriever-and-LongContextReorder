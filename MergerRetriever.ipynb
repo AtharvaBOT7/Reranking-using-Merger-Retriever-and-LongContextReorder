{
 "cells": [
  {
   "cell_type": "code",
   "execution_count": 1,
   "id": "25d99c47",
   "metadata": {},
   "outputs": [
    {
     "name": "stdout",
     "output_type": "stream",
     "text": [
      "Kernel Working Fine!\n"
     ]
    }
   ],
   "source": [
    "print(\"Kernel Working Fine!\")"
   ]
  },
  {
   "cell_type": "markdown",
   "id": "95bd9e94",
   "metadata": {},
   "source": [
    "## Loading the data"
   ]
  },
  {
   "cell_type": "code",
   "execution_count": 2,
   "id": "037580a0",
   "metadata": {},
   "outputs": [],
   "source": [
    "from langchain.document_loaders import PyPDFLoader\n",
    "from langchain.text_splitter import RecursiveCharacterTextSplitter"
   ]
  },
  {
   "cell_type": "code",
   "execution_count": 3,
   "id": "1db76298",
   "metadata": {},
   "outputs": [],
   "source": [
    "loader_HP = PyPDFLoader(\"Data/harrypotter.pdf\")"
   ]
  },
  {
   "cell_type": "code",
   "execution_count": 4,
   "id": "eb804d49",
   "metadata": {},
   "outputs": [],
   "source": [
    "doc_HP = loader_HP.load()"
   ]
  },
  {
   "cell_type": "code",
   "execution_count": 5,
   "id": "ab9dbe3c",
   "metadata": {},
   "outputs": [
    {
     "name": "stdout",
     "output_type": "stream",
     "text": [
      "3623\n"
     ]
    }
   ],
   "source": [
    "print(len(doc_HP))"
   ]
  },
  {
   "cell_type": "code",
   "execution_count": 6,
   "id": "efb0f340",
   "metadata": {},
   "outputs": [],
   "source": [
    "loader_got = PyPDFLoader(\"Data/got.pdf\")"
   ]
  },
  {
   "cell_type": "code",
   "execution_count": 7,
   "id": "27cd49fc",
   "metadata": {},
   "outputs": [],
   "source": [
    "doc_got = loader_got.load()"
   ]
  },
  {
   "cell_type": "code",
   "execution_count": 8,
   "id": "665dc2cf",
   "metadata": {},
   "outputs": [
    {
     "name": "stdout",
     "output_type": "stream",
     "text": [
      "755\n"
     ]
    }
   ],
   "source": [
    "print(len(doc_got))"
   ]
  },
  {
   "cell_type": "markdown",
   "id": "d0116256",
   "metadata": {},
   "source": [
    "## Text Splitting / Chunking"
   ]
  },
  {
   "cell_type": "code",
   "execution_count": 9,
   "id": "8970930d",
   "metadata": {},
   "outputs": [],
   "source": [
    "from langchain.text_splitter import RecursiveCharacterTextSplitter"
   ]
  },
  {
   "cell_type": "code",
   "execution_count": 10,
   "id": "756520a2",
   "metadata": {},
   "outputs": [],
   "source": [
    "text_splitter = RecursiveCharacterTextSplitter(chunk_size=500, chunk_overlap=100)"
   ]
  },
  {
   "cell_type": "code",
   "execution_count": 11,
   "id": "77877188",
   "metadata": {},
   "outputs": [],
   "source": [
    "text_HP = text_splitter.split_documents(doc_HP)"
   ]
  },
  {
   "cell_type": "code",
   "execution_count": 13,
   "id": "c27dc593",
   "metadata": {},
   "outputs": [],
   "source": [
    "text_got = text_splitter.split_documents(doc_got)"
   ]
  },
  {
   "cell_type": "code",
   "execution_count": 16,
   "id": "0da60abe",
   "metadata": {},
   "outputs": [
    {
     "name": "stdout",
     "output_type": "stream",
     "text": [
      "16976\n"
     ]
    }
   ],
   "source": [
    "print(len(text_HP))"
   ]
  },
  {
   "cell_type": "code",
   "execution_count": 17,
   "id": "32419162",
   "metadata": {},
   "outputs": [
    {
     "name": "stdout",
     "output_type": "stream",
     "text": [
      "4434\n"
     ]
    }
   ],
   "source": [
    "print(len(text_got))"
   ]
  },
  {
   "cell_type": "markdown",
   "id": "f418d867",
   "metadata": {},
   "source": [
    "## Loading the data Embedding Model"
   ]
  },
  {
   "cell_type": "markdown",
   "id": "1654d606",
   "metadata": {},
   "source": [
    "The embedding model is used to convert the chunks which we just created into vectors and then we will store these vector embeddings in a vector database."
   ]
  },
  {
   "cell_type": "code",
   "execution_count": 18,
   "id": "c4ff05f9",
   "metadata": {},
   "outputs": [],
   "source": [
    "from langchain.embeddings import HuggingFaceEmbeddings, OpenAIEmbeddings, HuggingFaceBgeEmbeddings"
   ]
  },
  {
   "cell_type": "code",
   "execution_count": 19,
   "id": "5caff0d8",
   "metadata": {},
   "outputs": [
    {
     "name": "stderr",
     "output_type": "stream",
     "text": [
      "/var/folders/p_/v95prvpj4cz7y53gvmgm1d_r0000gn/T/ipykernel_88106/3585289676.py:1: LangChainDeprecationWarning: The class `HuggingFaceEmbeddings` was deprecated in LangChain 0.2.2 and will be removed in 1.0. An updated version of the class exists in the :class:`~langchain-huggingface package and should be used instead. To use it run `pip install -U :class:`~langchain-huggingface` and import as `from :class:`~langchain_huggingface import HuggingFaceEmbeddings``.\n",
      "  hf_embeddings = HuggingFaceEmbeddings(model_name=\"sentence-transformers/all-MiniLM-L6-v2\")\n",
      "/Users/atharvabot7/Downloads/Reranking/reranking/lib/python3.9/site-packages/tqdm/auto.py:21: TqdmWarning: IProgress not found. Please update jupyter and ipywidgets. See https://ipywidgets.readthedocs.io/en/stable/user_install.html\n",
      "  from .autonotebook import tqdm as notebook_tqdm\n"
     ]
    }
   ],
   "source": [
    "hf_embeddings = HuggingFaceEmbeddings(model_name=\"sentence-transformers/all-MiniLM-L6-v2\")"
   ]
  },
  {
   "cell_type": "code",
   "execution_count": 20,
   "id": "c6e12471",
   "metadata": {},
   "outputs": [
    {
     "name": "stderr",
     "output_type": "stream",
     "text": [
      "/var/folders/p_/v95prvpj4cz7y53gvmgm1d_r0000gn/T/ipykernel_88106/2125299706.py:1: LangChainDeprecationWarning: The class `HuggingFaceBgeEmbeddings` was deprecated in LangChain 0.2.2 and will be removed in 1.0. An updated version of the class exists in the :class:`~langchain-huggingface package and should be used instead. To use it run `pip install -U :class:`~langchain-huggingface` and import as `from :class:`~langchain_huggingface import HuggingFaceEmbeddings``.\n",
      "  hf_bge_embeddings = HuggingFaceBgeEmbeddings(model_name=\"BAAI/bge-large-en\")\n"
     ]
    }
   ],
   "source": [
    "hf_bge_embeddings = HuggingFaceBgeEmbeddings(model_name=\"BAAI/bge-large-en\")"
   ]
  },
  {
   "cell_type": "code",
   "execution_count": 21,
   "id": "09a1f29e",
   "metadata": {},
   "outputs": [
    {
     "data": {
      "text/plain": [
       "True"
      ]
     },
     "execution_count": 21,
     "metadata": {},
     "output_type": "execute_result"
    }
   ],
   "source": [
    "import os\n",
    "from dotenv import load_dotenv\n",
    "load_dotenv()"
   ]
  },
  {
   "cell_type": "code",
   "execution_count": 22,
   "id": "cf4a2b6b",
   "metadata": {},
   "outputs": [],
   "source": [
    "OPENAI_API_KEY = os.getenv(\"OPENAI_API_KEY\")"
   ]
  },
  {
   "cell_type": "code",
   "execution_count": 24,
   "id": "26c04d3a",
   "metadata": {},
   "outputs": [],
   "source": [
    "openai_embeddings = OpenAIEmbeddings(openai_api_key=OPENAI_API_KEY)"
   ]
  },
  {
   "cell_type": "markdown",
   "id": "60394031",
   "metadata": {},
   "source": [
    "## Ingesting the Data in ChromaDB"
   ]
  },
  {
   "cell_type": "code",
   "execution_count": 25,
   "id": "0d84f45c",
   "metadata": {},
   "outputs": [],
   "source": [
    "from langchain.vectorstores import Chroma\n",
    "import chromadb"
   ]
  },
  {
   "cell_type": "code",
   "execution_count": 27,
   "id": "c9a884df",
   "metadata": {},
   "outputs": [
    {
     "data": {
      "text/plain": [
       "'/Users/atharvabot7/Downloads/Reranking'"
      ]
     },
     "execution_count": 27,
     "metadata": {},
     "output_type": "execute_result"
    }
   ],
   "source": [
    "import os\n",
    "os.getcwd()"
   ]
  },
  {
   "cell_type": "code",
   "execution_count": 28,
   "id": "4b618520",
   "metadata": {},
   "outputs": [],
   "source": [
    "CURRENT_DIR = os.path.dirname(os.path.abspath(\".\"))"
   ]
  },
  {
   "cell_type": "code",
   "execution_count": 29,
   "id": "2623ff0a",
   "metadata": {},
   "outputs": [
    {
     "data": {
      "text/plain": [
       "'/Users/atharvabot7/Downloads'"
      ]
     },
     "execution_count": 29,
     "metadata": {},
     "output_type": "execute_result"
    }
   ],
   "source": [
    "CURRENT_DIR"
   ]
  },
  {
   "cell_type": "code",
   "execution_count": 31,
   "id": "5d0e9c6c",
   "metadata": {},
   "outputs": [],
   "source": [
    "DB_DIR = os.path.join(CURRENT_DIR, \"Database\")"
   ]
  },
  {
   "cell_type": "code",
   "execution_count": 37,
   "id": "dffc425b",
   "metadata": {},
   "outputs": [],
   "source": [
    "client_settings = chromadb.config.Settings(\n",
    "    is_persistent=True,\n",
    "    persist_directory=DB_DIR,\n",
    "    anonymized_telemetry=False\n",
    ")"
   ]
  },
  {
   "cell_type": "code",
   "execution_count": 39,
   "id": "124e7b21",
   "metadata": {},
   "outputs": [],
   "source": [
    "hp_vectorstore = Chroma.from_documents(\n",
    "    text_HP,\n",
    "    hf_bge_embeddings,\n",
    "    client_settings=client_settings,\n",
    "    collection_name=\"harry_potter\",\n",
    "    collection_metadata={\"description\": \"Harry Potter book collection\", \"hnsw\" : \"cosine\"},\n",
    "    persist_directory=\"Store/Harry_Potter\"\n",
    ")"
   ]
  },
  {
   "cell_type": "code",
   "execution_count": 40,
   "id": "850ea9ea",
   "metadata": {},
   "outputs": [],
   "source": [
    "got_vectorstore = Chroma.from_documents(\n",
    "    text_got,\n",
    "    hf_bge_embeddings,\n",
    "    client_settings=client_settings,\n",
    "    collection_name=\"game_of_thrones\",\n",
    "    collection_metadata={\"description\": \"Game of Thrones book collection\", \"hnsw\" : \"cosine\"},\n",
    "    persist_directory=\"Store/Game_Of_Thrones\"\n",
    ")"
   ]
  },
  {
   "cell_type": "markdown",
   "id": "97b82afd",
   "metadata": {},
   "source": [
    "## Creating a Retriever"
   ]
  },
  {
   "cell_type": "code",
   "execution_count": 42,
   "id": "c643d881",
   "metadata": {},
   "outputs": [],
   "source": [
    "retriever_hp = hp_vectorstore.as_retriever(search_type = \"mmr\", search_kwargs={\"k\": 5, \"include_metadata\": True}) "
   ]
  },
  {
   "cell_type": "code",
   "execution_count": 43,
   "id": "bb2f7b73",
   "metadata": {},
   "outputs": [],
   "source": [
    "retriever_got = got_vectorstore.as_retriever(search_type = \"mmr\", search_kwargs={\"k\": 5, \"include_metadata\": True}) "
   ]
  },
  {
   "cell_type": "markdown",
   "id": "844bd69b",
   "metadata": {},
   "source": [
    "## Merge the Retrievers"
   ]
  },
  {
   "cell_type": "markdown",
   "id": "f7881c5b",
   "metadata": {},
   "source": [
    "This is also caled Lord of the Retriever (LOTR). "
   ]
  },
  {
   "cell_type": "code",
   "execution_count": 44,
   "id": "1c47dfa2",
   "metadata": {},
   "outputs": [],
   "source": [
    "from langchain.retrievers.merger_retriever import MergerRetriever"
   ]
  },
  {
   "cell_type": "code",
   "execution_count": 45,
   "id": "8c028720",
   "metadata": {},
   "outputs": [],
   "source": [
    "lotr = MergerRetriever(retrievers=[retriever_hp, retriever_got])"
   ]
  },
  {
   "cell_type": "code",
   "execution_count": 46,
   "id": "79860b22",
   "metadata": {},
   "outputs": [
    {
     "name": "stdout",
     "output_type": "stream",
     "text": [
      "sister.\tFor,\tthough\ther\tfirst\tjailer\thad\tdied,\tthere\twas\tno\tchange\tin\tthe\n",
      "pitiful\tcondition\tof\tAriana\tDumbledore.\tHer\tvery\texistence\tcontinued\tto\n",
      "be\tknown\tonly\tto\tthose\tfew\toutsiders\twho,\tlike\t“Dogbreath”\tDoge,\n",
      "could\tbe\tcounted\tupon\tto\tbelieve\tin\tthe\tstory\tof\ther\t“ill\thealth.”\n",
      "Another\t such\t easily\t satisfied\t friend\t of\t the\t family\t was\t Bathilda\n",
      "Bagshot,\tthe\tcelebrated\tmagical\thistorian\twho\thas\tlived\tin\tGodric’s\n",
      "Hollow\tfor\tmany\tyears.\tKendra,\tof\tcourse,\thad\trebuffed\tBathilda\twhen\n",
      "{'title': 'Harry Potter: The Complete Collection', 'creator': 'calibre 3.27.1 [https://calibre-ebook.com]', 'creationdate': '2019-02-21T16:04:23+00:00', 'producer': 'calibre 3.27.1 [https://calibre-ebook.com]', 'author': 'Rowling, J.K.', 'source': 'Data/harrypotter.pdf', 'page_label': '3277', 'page': 3276, 'total_pages': 3623}\n",
      "\n",
      "\n",
      "woman, and Sansa . . . Sansa is your sister. You may be as different as the sun and the \n",
      "moon, but the same blood flows through both your hearts. You need her, as she needs \n",
      "you . . . and I need both of you, gods help me.”\n",
      "He sounded so tired that it made Arya sad. “I don’t hate Sansa,” she told him. “Not \n",
      "truly.” It was only half a lie.\n",
      "{'moddate': '2018-01-12T10:46:54+01:00', 'title': 'A Game of Thrones', 'creator': 'PyPDF', 'page': 208, 'author': 'George R.R. Martin', 'page_label': '209', 'source': 'Data/got.pdf', 'keywords': 'Book One of A Song of Ice and Fire', 'producer': 'Acrobat Web Capture 7.0', 'creationdate': '2008-06-25T22:32:27+07:00', 'total_pages': 755}\n",
      "\n",
      "\n",
      "family\tlived\ton\tthe\toutskirts\tof\tGodric’s\tHollow\tat\tthat\ttime.\t“Ran\twild.\n",
      "’Course,\twith\this\tmum\tand\tdad\tgone\tyou’d\thave\tfelt\tsorry\tfor\thim,\tonly\n",
      "he\tkept\tchucking\tgoat\tdung\tat\tmy\thead.\tI\tdon’t\tthink\tAlbus\twas\tfussed\n",
      "about\thim,\tI\tnever\tsaw\tthem\ttogether,\tanyway.”\n",
      "So\twhat\twas\tAlbus\tdoing,\tif\tnot\tcomforting\this\twild\tyoung\tbrother?\n",
      "The\tanswer,\tit\tseems,\tis\tensuring\tthe\tcontinued\timprisonment\tof\this\n",
      "sister.\tFor,\tthough\ther\tfirst\tjailer\thad\tdied,\tthere\twas\tno\tchange\tin\tthe\n",
      "{'total_pages': 3623, 'page': 3276, 'author': 'Rowling, J.K.', 'creator': 'calibre 3.27.1 [https://calibre-ebook.com]', 'page_label': '3277', 'source': 'Data/harrypotter.pdf', 'title': 'Harry Potter: The Complete Collection', 'producer': 'calibre 3.27.1 [https://calibre-ebook.com]', 'creationdate': '2019-02-21T16:04:23+00:00'}\n",
      "\n",
      "\n",
      "—his siblings:\n",
      "—{BRANDON}, his elder brother, murdered by the command of \n",
      "Aerys II Targaryen,\n",
      "—{LYANNA}, his younger sister, died in the mountains of Dorne,\n",
      "—BENJEN, his younger brother, a man of the Night’s Watch,\n",
      "{'keywords': 'Book One of A Song of Ice and Fire', 'page': 734, 'moddate': '2018-01-12T10:46:54+01:00', 'creator': 'PyPDF', 'creationdate': '2008-06-25T22:32:27+07:00', 'source': 'Data/got.pdf', 'page_label': '735', 'author': 'George R.R. Martin', 'producer': 'Acrobat Web Capture 7.0', 'title': 'A Game of Thrones', 'total_pages': 755}\n",
      "\n",
      "\n",
      "“Don’t\tyou\tdare\t—\tdon’t\tyou\t\n",
      "dare\n",
      "\tblame\tmy\thusband!”\tsaid\tNarcissa,\tin\ta\n",
      "low\tand\tdeadly\tvoice,\tlooking\tup\tat\ther\tsister.\n",
      "“There\tis\tno\tpoint\tapportioning\tblame,”\tsaid\tSnape\tsmoothly.\t“What\tis\n",
      "done,\tis\tdone.”\n",
      "“But\tnot\tby\tyou!”\tsaid\tBellatrix\tfuriously.\t“No,\tyou\twere\tonce\tagain\tabsent\n",
      "{'total_pages': 3623, 'page_label': '2439', 'source': 'Data/harrypotter.pdf', 'page': 2438, 'producer': 'calibre 3.27.1 [https://calibre-ebook.com]', 'creator': 'calibre 3.27.1 [https://calibre-ebook.com]', 'title': 'Harry Potter: The Complete Collection', 'creationdate': '2019-02-21T16:04:23+00:00', 'author': 'Rowling, J.K.'}\n",
      "\n",
      "\n",
      "his sister to court. The girl is a maid of fourteen, sweet and beautiful and tractable, and \n",
      "Lord Renly and Ser Loras intend that Robert should bed her, wed her, and make a new \n",
      "queen. Littlefinger . . . the gods only know what game Littlefinger is playing. Yet Lord \n",
      "Stark’s the one who troubles my sleep. He has the bastard, he has the book, and soon \n",
      "enough he’ll have the truth. And now his wife has abducted Tyrion Lannister, thanks to\n",
      "{'creator': 'PyPDF', 'page_label': '318', 'moddate': '2018-01-12T10:46:54+01:00', 'keywords': 'Book One of A Song of Ice and Fire', 'source': 'Data/got.pdf', 'producer': 'Acrobat Web Capture 7.0', 'total_pages': 755, 'page': 317, 'title': 'A Game of Thrones', 'creationdate': '2008-06-25T22:32:27+07:00', 'author': 'George R.R. Martin'}\n",
      "\n",
      "\n",
      "inside\tHarry’s\tbrain:\n",
      "She’s\tRon’s\tsister.\n",
      "But\tshe’s\tditched\tDean!\n",
      "She’s\tstill\tRon’s\tsister.\n",
      "I’m\this\tbest\tmate!\n",
      "That’ll\tmake\tit\tworse.\n",
      "If\tI\ttalked\tto\thim\tfirst\t—\n",
      "He’d\thit\tyou.\n",
      "What\tif\tI\tdon’t\tcare?\n",
      "He’s\tyour\tbest\tmate!\n",
      "Harry\tbarely\tnoticed\tthat\tthey\twere\tclimbing\tthrough\tthe\tportrait\thole\tinto\n",
      "the\tsunny\tcommon\troom,\tand\tonly\tvaguely\tregistered\tthe\tsmall\tgroup\tof\n",
      "seventh\tyears\tclustered\ttogether\tthere,\tuntil\tHermione\tcried,\t“Katie!\tYou’re\n",
      "back!\tAre\tyou\tokay?”\n",
      "{'creator': 'calibre 3.27.1 [https://calibre-ebook.com]', 'creationdate': '2019-02-21T16:04:23+00:00', 'author': 'Rowling, J.K.', 'source': 'Data/harrypotter.pdf', 'page_label': '2849', 'page': 2848, 'total_pages': 3623, 'title': 'Harry Potter: The Complete Collection', 'producer': 'calibre 3.27.1 [https://calibre-ebook.com]'}\n",
      "\n",
      "\n",
      "—his household:\n",
      "—MAESTER LUWIN, counsellor, healer, and tutor,\n",
      "—VAYON POOLE, steward of Winterfell,\n",
      "—JEYNE, his daughter, Sansa’s closest friend,\n",
      "—JORY CASSEL, captain of the guard,\n",
      "—HALLIS MOLLEN, DESMOND, JACKS, PORTHER, QUENT, ALYN, \n",
      "TOMARD, VARLY, HEWARD, CAYN, WYL, guardsmen,\n",
      "—SER RODRIK CASSEL, master-at-arms, Jory’s uncle,\n",
      "—BETH, his young daughter,\n",
      "—SEPTA MORDANE, tutor to Lord Eddard’s daughters,\n",
      "—SEPTON CHAYLE, keeper of the castle sept and library,\n",
      "—HULLEN, master of horse,\n",
      "{'author': 'George R.R. Martin', 'page': 735, 'title': 'A Game of Thrones', 'total_pages': 755, 'page_label': '736', 'source': 'Data/got.pdf', 'creationdate': '2008-06-25T22:32:27+07:00', 'moddate': '2018-01-12T10:46:54+01:00', 'keywords': 'Book One of A Song of Ice and Fire', 'producer': 'Acrobat Web Capture 7.0', 'creator': 'PyPDF'}\n",
      "\n",
      "\n",
      "The\tDursleys\thad\teverything\tthey\twanted,\tbut\tthey\talso\thad\ta\tsecret,\tand\n",
      "their\tgreatest\tfear\twas\tthat\tsomebody\twould\tdiscover\tit.\tThey\tdidn’t\tthink\n",
      "they\tcould\tbear\tit\tif\tanyone\tfound\tout\tabout\tthe\tPotters.\tMrs.\tPotter\twas\tMrs.\n",
      "Dursley’s\tsister,\tbut\tthey\thadn’t\tmet\tfor\tseveral\tyears;\tin\tfact,\tMrs.\tDursley\n",
      "pretended\tshe\tdidn’t\thave\ta\tsister,\tbecause\ther\tsister\tand\ther\tgood-for-nothing\n",
      "husband\t were\t as\t unDursleyish\t as\t it\t was\t possible\t to\t be.\t The\t Dursleys\n",
      "{'title': 'Harry Potter: The Complete Collection', 'creator': 'calibre 3.27.1 [https://calibre-ebook.com]', 'creationdate': '2019-02-21T16:04:23+00:00', 'author': 'Rowling, J.K.', 'total_pages': 3623, 'source': 'Data/harrypotter.pdf', 'page': 11, 'page_label': '12', 'producer': 'calibre 3.27.1 [https://calibre-ebook.com]'}\n",
      "\n",
      "\n",
      "previous | Table of Contents | next\n",
      "SANSA\n",
      "Sansa rode to the Hand’s tourney with Septa Mordane and Jeyne Poole, in a litter with \n",
      "curtains of yellow silk so fine she could see right through them. They turned the whole \n",
      "world gold. Beyond the city walls, a hundred pavilions had been raised beside the river, \n",
      "and the common folk came out in the thousands to watch the games. The splendor of it \n",
      "all took Sansa’s breath away; the shining armor, the great chargers caparisoned in silver\n",
      "{'producer': 'Acrobat Web Capture 7.0', 'creationdate': '2008-06-25T22:32:27+07:00', 'source': 'Data/got.pdf', 'page_label': '273', 'title': 'A Game of Thrones', 'creator': 'PyPDF', 'author': 'George R.R. Martin', 'page': 272, 'moddate': '2018-01-12T10:46:54+01:00', 'keywords': 'Book One of A Song of Ice and Fire', 'total_pages': 755}\n",
      "\n",
      "\n"
     ]
    },
    {
     "name": "stderr",
     "output_type": "stream",
     "text": [
      "/var/folders/p_/v95prvpj4cz7y53gvmgm1d_r0000gn/T/ipykernel_88106/682168236.py:1: LangChainDeprecationWarning: The method `BaseRetriever.get_relevant_documents` was deprecated in langchain-core 0.1.46 and will be removed in 1.0. Use :meth:`~invoke` instead.\n",
      "  for chunks in lotr.get_relevant_documents(\"Who is sister of Sansa Stark?\"):\n"
     ]
    }
   ],
   "source": [
    "for chunks in lotr.get_relevant_documents(\"Who is sister of Sansa Stark?\"):\n",
    "    print(chunks.page_content)\n",
    "    print(chunks.metadata)\n",
    "    print(\"\\n\")"
   ]
  },
  {
   "cell_type": "code",
   "execution_count": 47,
   "id": "254c54d8",
   "metadata": {},
   "outputs": [
    {
     "name": "stdout",
     "output_type": "stream",
     "text": [
      "James,\t\n",
      "Sirius!”\n",
      "“I’m\tperfectly\tclear\twho\the\tis,\tthanks,\tMolly,”\tsaid\tSirius\tcoldly.\n",
      "“I’m\tnot\tsure\tyou\tare!”\tsaid\tMrs.\tWeasley.\t“Sometimes,\tthe\tway\tyou\ttalk\n",
      "about\thim,\tit’s\tas\tthough\tyou\tthink\tyou’ve\tgot\tyour\tbest\tfriend\tback!”\n",
      "“What’s\twrong\twith\tthat?”\tsaid\tHarry.\n",
      "“What’s\twrong,\tHarry,\tis\tthat\tyou\tare\t\n",
      "not\n",
      "\tyour\tfather,\thowever\tmuch\tyou\n",
      "might\tlook\tlike\thim!”\tsaid\tMrs.\tWeasley,\ther\teyes\tstill\tboring\tinto\tSirius.\n",
      "“You\tare\tstill\tat\tschool\tand\tadults\tresponsible\tfor\tyou\tshould\tnot\tforget\tit!”\n",
      "{'page': 1653, 'source': 'Data/harrypotter.pdf', 'creator': 'calibre 3.27.1 [https://calibre-ebook.com]', 'creationdate': '2019-02-21T16:04:23+00:00', 'author': 'Rowling, J.K.', 'producer': 'calibre 3.27.1 [https://calibre-ebook.com]', 'title': 'Harry Potter: The Complete Collection', 'page_label': '1654', 'total_pages': 3623}\n",
      "\n",
      "\n",
      "—LORD PETYR BAELISH, called LITTLEFINGER, master of coin,\n",
      "—LORD STANNIS BARATHEON, master of ships,\n",
      "—LORD RENLY BARATHEON, master of laws,\n",
      "—SER BARRISTAN SELMY, Lord Commander of the Kingsguard,\n",
      "—VARYS, a eunuch, called the Spider, master of whisperers,\n",
      "—his court and retainers:\n",
      "—SER ILYN PAYNE, the King’s Justice, a headsman,\n",
      "—SANDOR CLEGANE, called the Hound, sworn shield to Prince \n",
      "Joffrey,\n",
      "—JANOS SLYNT, a commoner, commander of the City Watch of \n",
      "King’s Landing,\n",
      "{'page': 732, 'moddate': '2018-01-12T10:46:54+01:00', 'creationdate': '2008-06-25T22:32:27+07:00', 'producer': 'Acrobat Web Capture 7.0', 'creator': 'PyPDF', 'total_pages': 755, 'keywords': 'Book One of A Song of Ice and Fire', 'page_label': '733', 'title': 'A Game of Thrones', 'source': 'Data/got.pdf', 'author': 'George R.R. Martin'}\n",
      "\n",
      "\n",
      "DUMBLEDORE’S\tGIANT\tMISTAKE\n",
      "Albus\tDumbledore,\teccentric\theadmaster\tof\tHogwarts\tSchool\tof\n",
      "Witchcraft\t and\t Wizardry,\t has\t never\t been\t afraid\t to\t make\n",
      "controversial\t staff\t appointments,\t\n",
      "writes\t Rita\t Skeeter,\t Special\n",
      "Correspondent.\n",
      "\tIn\tSeptember\tof\tthis\tyear,\the\thired\tAlastor\t“Mad-\n",
      "Eye”\tMoody,\tthe\tnotoriously\tjinx-happy\tex-Auror,\tto\tteach\tDefense\n",
      "Against\tthe\tDark\tArts,\ta\tdecision\tthat\tcaused\tmany\traised\teyebrows\n",
      "at\t the\t Ministry\t of\t Magic,\t given\t Moody’s\t well-known\t habit\t of\n",
      "{'page_label': '1313', 'creator': 'calibre 3.27.1 [https://calibre-ebook.com]', 'page': 1312, 'producer': 'calibre 3.27.1 [https://calibre-ebook.com]', 'source': 'Data/harrypotter.pdf', 'title': 'Harry Potter: The Complete Collection', 'creationdate': '2019-02-21T16:04:23+00:00', 'author': 'Rowling, J.K.', 'total_pages': 3623}\n",
      "\n",
      "\n",
      "sigil is a golden lion upon a crimson field. The Lannister words are Hear Me \n",
      "Roar!\n",
      "TYWIN LANNISTER, Lord of Casterly Rock, Warden of the West, Shield of \n",
      "Lannisport,\n",
      "—his wife, {LADY JOANNA}, a cousin, died in childbed,\n",
      "—their children:\n",
      "—SER JAIME, called the Kingslayer, heir to Casterly Rock, a twin to \n",
      "Cersei,\n",
      "—QUEEN CERSEI, wife of King Robert I Baratheon, a twin to Jaime,\n",
      "—TYRION, called the Imp, a dwarf,\n",
      "—his siblings:\n",
      "—SER KEVAN, his eldest brother,\n",
      "—his wife, DORNA, of House Swyft,\n",
      "{'title': 'A Game of Thrones', 'moddate': '2018-01-12T10:46:54+01:00', 'total_pages': 755, 'page_label': '738', 'page': 737, 'creator': 'PyPDF', 'creationdate': '2008-06-25T22:32:27+07:00', 'producer': 'Acrobat Web Capture 7.0', 'source': 'Data/got.pdf', 'author': 'George R.R. Martin', 'keywords': 'Book One of A Song of Ice and Fire'}\n",
      "\n",
      "\n",
      "started\tto\tspread:\tHarry\tPotter,\tthe\tfamous\tHarry\tPotter,\ttheir\thero\tof\ttwo\n",
      "Quidditch\tmatches,\thad\tlost\tthem\tall\tthose\tpoints,\thim\tand\ta\tcouple\tof\tother\n",
      "stupid\tfirst\tyears.\n",
      "From\tbeing\tone\tof\tthe\tmost\tpopular\tand\tadmired\tpeople\tat\tthe\tschool,\n",
      "Harry\twas\tsuddenly\tthe\tmost\thated.\tEven\tRavenclaws\tand\tHufflepuffs\tturned\n",
      "on\thim,\tbecause\teveryone\thad\tbeen\tlonging\tto\tsee\tSlytherin\tlose\tthe\tHouse\n",
      "Cup.\tEverywhere\tHarry\twent,\tpeople\tpointed\tand\tdidn’t\ttrouble\tto\tlower\ttheir\n",
      "{'page_label': '219', 'creator': 'calibre 3.27.1 [https://calibre-ebook.com]', 'source': 'Data/harrypotter.pdf', 'total_pages': 3623, 'producer': 'calibre 3.27.1 [https://calibre-ebook.com]', 'page': 218, 'creationdate': '2019-02-21T16:04:23+00:00', 'title': 'Harry Potter: The Complete Collection', 'author': 'Rowling, J.K.'}\n",
      "\n",
      "\n",
      "Crossing: Ser Jared, Ser Hosteen, Ser Danwell, Ser Emmon, Ser Theo, Ser Perwyn, sons \n",
      "and grandsons of old Lord Walder Frey, and his bastard son Martyn Rivers as well.\n",
      "Jeyne Poole confessed herself frightened by the look of Jalabhar Xho, an exile prince \n",
      "from the Summer Isles who wore a cape of green and scarlet feathers over skin as dark \n",
      "as night, but when she saw young Lord Beric Dondarrion, with his hair like red gold and\n",
      "{'keywords': 'Book One of A Song of Ice and Fire', 'moddate': '2018-01-12T10:46:54+01:00', 'source': 'Data/got.pdf', 'title': 'A Game of Thrones', 'total_pages': 755, 'author': 'George R.R. Martin', 'page_label': '274', 'page': 273, 'producer': 'Acrobat Web Capture 7.0', 'creator': 'PyPDF', 'creationdate': '2008-06-25T22:32:27+07:00'}\n",
      "\n",
      "\n",
      "nothing\t will\t hurt\t me\t during\t the\t tournament,\t because\t they’re\n",
      "watching\tover\tme.\t.\t.\t.\n",
      "But\tRita\tSkeeter\thad\tgone\teven\tfurther\tthan\ttransforming\this\t“er’s”\tinto\n",
      "long,\tsickly\tsentences:\tShe\thad\tinterviewed\tother\tpeople\tabout\thim\ttoo.\n",
      "Harry\thas\tat\tlast\tfound\tlove\tat\tHogwarts.\tHis\tclose\tfriend,\tColin\n",
      "Creevey,\tsays\tthat\tHarry\tis\trarely\tseen\tout\tof\tthe\tcompany\tof\tone\n",
      "Hermione\tGranger,\ta\tstunningly\tpretty\tMuggle-born\tgirl\twho,\tlike\n",
      "Harry,\tis\tone\tof\tthe\ttop\tstudents\tin\tthe\tschool.\n",
      "{'total_pages': 3623, 'page': 1210, 'title': 'Harry Potter: The Complete Collection', 'producer': 'calibre 3.27.1 [https://calibre-ebook.com]', 'page_label': '1211', 'author': 'Rowling, J.K.', 'creator': 'calibre 3.27.1 [https://calibre-ebook.com]', 'source': 'Data/harrypotter.pdf', 'creationdate': '2019-02-21T16:04:23+00:00'}\n",
      "\n",
      "\n",
      "—LEYTON HIGHTOWER, Voice of Oldtown, Lord of the Port,\n",
      "—SER JON FOSSOWAY,\n",
      " \n",
      "Principal houses sworn to Highgarden are Vrywel, Florent, Oakheart, \n",
      "Hightower, Crane, Tarly, Redwyne, Rowan, Fossoway, and Mullendore.\n",
      " \n",
      "previous | Table of Contents | next\n",
      "{'page': 746, 'creator': 'PyPDF', 'source': 'Data/got.pdf', 'keywords': 'Book One of A Song of Ice and Fire', 'producer': 'Acrobat Web Capture 7.0', 'author': 'George R.R. Martin', 'title': 'A Game of Thrones', 'total_pages': 755, 'creationdate': '2008-06-25T22:32:27+07:00', 'page_label': '747', 'moddate': '2018-01-12T10:46:54+01:00'}\n",
      "\n",
      "\n",
      "Daily\n",
      "Prophet\n",
      ",\tbecause\tthe\tpeople\tin\tthe\tblack-and-white\tpicture\twere\tmoving.\n",
      "Harry\tpicked\tup\tthe\tclipping,\tsmoothed\tit\tout,\tand\tread:\n",
      "MINISTRY\tOF\tMAGIC\tEMPLOYEE\tSCOOPS\tGRAND\n",
      "PRIZE\n",
      "Arthur\tWeasley,\tHead\tof\tthe\tMisuse\tof\tMuggle\tArtifacts\tOffice\tat\n",
      "the\tMinistry\tof\tMagic,\thas\twon\tthe\tannual\t\n",
      "Daily\tProphet\n",
      "\tGrand\n",
      "Prize\tGalleon\tDraw.\n",
      "A\tdelighted\tMr.\tWeasley\ttold\tthe\t\n",
      "Daily\tProphet,\t\n",
      "“We\twill\tbe\n",
      "{'title': 'Harry Potter: The Complete Collection', 'page_label': '578', 'total_pages': 3623, 'page': 577, 'creator': 'calibre 3.27.1 [https://calibre-ebook.com]', 'creationdate': '2019-02-21T16:04:23+00:00', 'producer': 'calibre 3.27.1 [https://calibre-ebook.com]', 'source': 'Data/harrypotter.pdf', 'author': 'Rowling, J.K.'}\n",
      "\n",
      "\n",
      "woman, and Sansa . . . Sansa is your sister. You may be as different as the sun and the \n",
      "moon, but the same blood flows through both your hearts. You need her, as she needs \n",
      "you . . . and I need both of you, gods help me.”\n",
      "He sounded so tired that it made Arya sad. “I don’t hate Sansa,” she told him. “Not \n",
      "truly.” It was only half a lie.\n",
      "{'page_label': '209', 'creator': 'PyPDF', 'moddate': '2018-01-12T10:46:54+01:00', 'source': 'Data/got.pdf', 'total_pages': 755, 'page': 208, 'title': 'A Game of Thrones', 'keywords': 'Book One of A Song of Ice and Fire', 'author': 'George R.R. Martin', 'producer': 'Acrobat Web Capture 7.0', 'creationdate': '2008-06-25T22:32:27+07:00'}\n",
      "\n",
      "\n"
     ]
    }
   ],
   "source": [
    "for chunks in lotr.get_relevant_documents(\"What is the name of main charater of Harry Potter?\"):\n",
    "    print(chunks.page_content)\n",
    "    print(chunks.metadata)\n",
    "    print(\"\\n\")"
   ]
  },
  {
   "cell_type": "markdown",
   "id": "c135b1cd",
   "metadata": {},
   "source": [
    "This result is very messy and huge, it can't be fed to a LLM so we have to refine it according to the question asked to overcome the scenario of Lost in the Middle. "
   ]
  },
  {
   "cell_type": "code",
   "execution_count": null,
   "id": "48aa8ee4",
   "metadata": {},
   "outputs": [],
   "source": []
  },
  {
   "cell_type": "code",
   "execution_count": null,
   "id": "befd1e02",
   "metadata": {},
   "outputs": [],
   "source": []
  },
  {
   "cell_type": "code",
   "execution_count": null,
   "id": "b84e5bfe",
   "metadata": {},
   "outputs": [],
   "source": []
  }
 ],
 "metadata": {
  "kernelspec": {
   "display_name": "Python 3",
   "language": "python",
   "name": "python3"
  },
  "language_info": {
   "codemirror_mode": {
    "name": "ipython",
    "version": 3
   },
   "file_extension": ".py",
   "mimetype": "text/x-python",
   "name": "python",
   "nbconvert_exporter": "python",
   "pygments_lexer": "ipython3",
   "version": "3.9.23"
  }
 },
 "nbformat": 4,
 "nbformat_minor": 5
}
