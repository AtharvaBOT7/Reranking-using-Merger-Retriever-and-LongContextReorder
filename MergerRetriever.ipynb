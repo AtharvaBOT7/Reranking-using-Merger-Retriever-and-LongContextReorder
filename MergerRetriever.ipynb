{
 "cells": [
  {
   "cell_type": "code",
   "execution_count": 1,
   "id": "25d99c47",
   "metadata": {},
   "outputs": [
    {
     "name": "stdout",
     "output_type": "stream",
     "text": [
      "Kernel Working Fine!\n"
     ]
    }
   ],
   "source": [
    "print(\"Kernel Working Fine!\")"
   ]
  },
  {
   "cell_type": "markdown",
   "id": "95bd9e94",
   "metadata": {},
   "source": [
    "## Loading the data"
   ]
  },
  {
   "cell_type": "code",
   "execution_count": 2,
   "id": "037580a0",
   "metadata": {},
   "outputs": [],
   "source": [
    "from langchain.document_loaders import PyPDFLoader\n",
    "from langchain.text_splitter import RecursiveCharacterTextSplitter"
   ]
  },
  {
   "cell_type": "code",
   "execution_count": 3,
   "id": "1db76298",
   "metadata": {},
   "outputs": [],
   "source": [
    "loader_HP = PyPDFLoader(\"Data/harrypotter.pdf\")"
   ]
  },
  {
   "cell_type": "code",
   "execution_count": 4,
   "id": "eb804d49",
   "metadata": {},
   "outputs": [],
   "source": [
    "doc_HP = loader_HP.load()"
   ]
  },
  {
   "cell_type": "code",
   "execution_count": 5,
   "id": "ab9dbe3c",
   "metadata": {},
   "outputs": [
    {
     "name": "stdout",
     "output_type": "stream",
     "text": [
      "3623\n"
     ]
    }
   ],
   "source": [
    "print(len(doc_HP))"
   ]
  },
  {
   "cell_type": "code",
   "execution_count": null,
   "id": "efb0f340",
   "metadata": {},
   "outputs": [],
   "source": []
  }
 ],
 "metadata": {
  "kernelspec": {
   "display_name": "Python 3",
   "language": "python",
   "name": "python3"
  },
  "language_info": {
   "codemirror_mode": {
    "name": "ipython",
    "version": 3
   },
   "file_extension": ".py",
   "mimetype": "text/x-python",
   "name": "python",
   "nbconvert_exporter": "python",
   "pygments_lexer": "ipython3",
   "version": "3.9.23"
  }
 },
 "nbformat": 4,
 "nbformat_minor": 5
}
