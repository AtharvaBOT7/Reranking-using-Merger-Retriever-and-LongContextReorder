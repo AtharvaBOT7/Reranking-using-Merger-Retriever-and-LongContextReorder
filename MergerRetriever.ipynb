{
 "cells": [
  {
   "cell_type": "code",
   "execution_count": 1,
   "id": "25d99c47",
   "metadata": {},
   "outputs": [
    {
     "name": "stdout",
     "output_type": "stream",
     "text": [
      "Kernel Working Fine!\n"
     ]
    }
   ],
   "source": [
    "print(\"Kernel Working Fine!\")"
   ]
  },
  {
   "cell_type": "markdown",
   "id": "95bd9e94",
   "metadata": {},
   "source": [
    "## Loading the data"
   ]
  },
  {
   "cell_type": "code",
   "execution_count": 2,
   "id": "037580a0",
   "metadata": {},
   "outputs": [],
   "source": [
    "from langchain.document_loaders import PyPDFLoader\n",
    "from langchain.text_splitter import RecursiveCharacterTextSplitter"
   ]
  },
  {
   "cell_type": "code",
   "execution_count": 3,
   "id": "1db76298",
   "metadata": {},
   "outputs": [],
   "source": [
    "loader_HP = PyPDFLoader(\"Data/harrypotter.pdf\")"
   ]
  },
  {
   "cell_type": "code",
   "execution_count": 4,
   "id": "eb804d49",
   "metadata": {},
   "outputs": [],
   "source": [
    "doc_HP = loader_HP.load()"
   ]
  },
  {
   "cell_type": "code",
   "execution_count": 5,
   "id": "ab9dbe3c",
   "metadata": {},
   "outputs": [
    {
     "name": "stdout",
     "output_type": "stream",
     "text": [
      "3623\n"
     ]
    }
   ],
   "source": [
    "print(len(doc_HP))"
   ]
  },
  {
   "cell_type": "code",
   "execution_count": 6,
   "id": "efb0f340",
   "metadata": {},
   "outputs": [],
   "source": [
    "loader_got = PyPDFLoader(\"Data/got.pdf\")"
   ]
  },
  {
   "cell_type": "code",
   "execution_count": 7,
   "id": "27cd49fc",
   "metadata": {},
   "outputs": [],
   "source": [
    "doc_got = loader_got.load()"
   ]
  },
  {
   "cell_type": "code",
   "execution_count": 8,
   "id": "665dc2cf",
   "metadata": {},
   "outputs": [
    {
     "name": "stdout",
     "output_type": "stream",
     "text": [
      "755\n"
     ]
    }
   ],
   "source": [
    "print(len(doc_got))"
   ]
  },
  {
   "cell_type": "markdown",
   "id": "d0116256",
   "metadata": {},
   "source": [
    "## Text Splitting / Chunking"
   ]
  },
  {
   "cell_type": "code",
   "execution_count": 9,
   "id": "8970930d",
   "metadata": {},
   "outputs": [],
   "source": [
    "from langchain.text_splitter import RecursiveCharacterTextSplitter"
   ]
  },
  {
   "cell_type": "code",
   "execution_count": 10,
   "id": "756520a2",
   "metadata": {},
   "outputs": [],
   "source": [
    "text_splitter = RecursiveCharacterTextSplitter(chunk_size=500, chunk_overlap=100)"
   ]
  },
  {
   "cell_type": "code",
   "execution_count": 11,
   "id": "77877188",
   "metadata": {},
   "outputs": [],
   "source": [
    "text_HP = text_splitter.split_documents(doc_HP)"
   ]
  },
  {
   "cell_type": "code",
   "execution_count": 13,
   "id": "c27dc593",
   "metadata": {},
   "outputs": [],
   "source": [
    "text_got = text_splitter.split_documents(doc_got)"
   ]
  },
  {
   "cell_type": "code",
   "execution_count": 16,
   "id": "0da60abe",
   "metadata": {},
   "outputs": [
    {
     "name": "stdout",
     "output_type": "stream",
     "text": [
      "16976\n"
     ]
    }
   ],
   "source": [
    "print(len(text_HP))"
   ]
  },
  {
   "cell_type": "code",
   "execution_count": 17,
   "id": "32419162",
   "metadata": {},
   "outputs": [
    {
     "name": "stdout",
     "output_type": "stream",
     "text": [
      "4434\n"
     ]
    }
   ],
   "source": [
    "print(len(text_got))"
   ]
  },
  {
   "cell_type": "markdown",
   "id": "f418d867",
   "metadata": {},
   "source": [
    "## Loading the data Embedding Model"
   ]
  },
  {
   "cell_type": "markdown",
   "id": "1654d606",
   "metadata": {},
   "source": [
    "The embedding model is used to convert the chunks which we just created into vectors and then we will store these vector embeddings in a vector database."
   ]
  },
  {
   "cell_type": "code",
   "execution_count": 18,
   "id": "c4ff05f9",
   "metadata": {},
   "outputs": [],
   "source": [
    "from langchain.embeddings import HuggingFaceEmbeddings, OpenAIEmbeddings, HuggingFaceBgeEmbeddings"
   ]
  },
  {
   "cell_type": "code",
   "execution_count": 19,
   "id": "5caff0d8",
   "metadata": {},
   "outputs": [
    {
     "name": "stderr",
     "output_type": "stream",
     "text": [
      "/var/folders/p_/v95prvpj4cz7y53gvmgm1d_r0000gn/T/ipykernel_88106/3585289676.py:1: LangChainDeprecationWarning: The class `HuggingFaceEmbeddings` was deprecated in LangChain 0.2.2 and will be removed in 1.0. An updated version of the class exists in the :class:`~langchain-huggingface package and should be used instead. To use it run `pip install -U :class:`~langchain-huggingface` and import as `from :class:`~langchain_huggingface import HuggingFaceEmbeddings``.\n",
      "  hf_embeddings = HuggingFaceEmbeddings(model_name=\"sentence-transformers/all-MiniLM-L6-v2\")\n",
      "/Users/atharvabot7/Downloads/Reranking/reranking/lib/python3.9/site-packages/tqdm/auto.py:21: TqdmWarning: IProgress not found. Please update jupyter and ipywidgets. See https://ipywidgets.readthedocs.io/en/stable/user_install.html\n",
      "  from .autonotebook import tqdm as notebook_tqdm\n"
     ]
    }
   ],
   "source": [
    "hf_embeddings = HuggingFaceEmbeddings(model_name=\"sentence-transformers/all-MiniLM-L6-v2\")"
   ]
  },
  {
   "cell_type": "code",
   "execution_count": 20,
   "id": "c6e12471",
   "metadata": {},
   "outputs": [
    {
     "name": "stderr",
     "output_type": "stream",
     "text": [
      "/var/folders/p_/v95prvpj4cz7y53gvmgm1d_r0000gn/T/ipykernel_88106/2125299706.py:1: LangChainDeprecationWarning: The class `HuggingFaceBgeEmbeddings` was deprecated in LangChain 0.2.2 and will be removed in 1.0. An updated version of the class exists in the :class:`~langchain-huggingface package and should be used instead. To use it run `pip install -U :class:`~langchain-huggingface` and import as `from :class:`~langchain_huggingface import HuggingFaceEmbeddings``.\n",
      "  hf_bge_embeddings = HuggingFaceBgeEmbeddings(model_name=\"BAAI/bge-large-en\")\n"
     ]
    }
   ],
   "source": [
    "hf_bge_embeddings = HuggingFaceBgeEmbeddings(model_name=\"BAAI/bge-large-en\")"
   ]
  },
  {
   "cell_type": "code",
   "execution_count": null,
   "id": "09a1f29e",
   "metadata": {},
   "outputs": [],
   "source": []
  },
  {
   "cell_type": "code",
   "execution_count": null,
   "id": "cf4a2b6b",
   "metadata": {},
   "outputs": [],
   "source": []
  },
  {
   "cell_type": "code",
   "execution_count": null,
   "id": "26c04d3a",
   "metadata": {},
   "outputs": [],
   "source": []
  }
 ],
 "metadata": {
  "kernelspec": {
   "display_name": "Python 3",
   "language": "python",
   "name": "python3"
  },
  "language_info": {
   "codemirror_mode": {
    "name": "ipython",
    "version": 3
   },
   "file_extension": ".py",
   "mimetype": "text/x-python",
   "name": "python",
   "nbconvert_exporter": "python",
   "pygments_lexer": "ipython3",
   "version": "3.9.23"
  }
 },
 "nbformat": 4,
 "nbformat_minor": 5
}
